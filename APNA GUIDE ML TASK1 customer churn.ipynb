{
 "cells": [
  {
   "cell_type": "code",
   "execution_count": 1,
   "id": "fe99ee5b",
   "metadata": {},
   "outputs": [],
   "source": [
    "#BHAVYA GUPTA ML TASK 1, CUSTOMER CHURN.\n",
    "#Importing the necessary libraries\n",
    "import pandas as pd\n",
    "from sklearn.preprocessing import StandardScaler, LabelEncoder\n",
    "from imblearn.over_sampling import SMOTE\n",
    "from sklearn.model_selection import train_test_split\n",
    "from sklearn.ensemble import RandomForestClassifier\n",
    "from sklearn.metrics import accuracy_score, f1_score\n"
   ]
  },
  {
   "cell_type": "code",
   "execution_count": 2,
   "id": "eaee884f",
   "metadata": {},
   "outputs": [],
   "source": [
    "\n",
    "# Load the dataset\n",
    "data = pd.read_csv('Churn-Data.csv')\n"
   ]
  },
  {
   "cell_type": "code",
   "execution_count": 3,
   "id": "3e32e17a",
   "metadata": {},
   "outputs": [
    {
     "name": "stdout",
     "output_type": "stream",
     "text": [
      "Index(['cID', 'gender', 'SeniorCitizen', 'Partner', 'Dependents', 'tenure',\n",
      "       'PhoneService', 'MultipleLines', 'InternetService', 'OnlineSecurity',\n",
      "       'OnlineBackup', 'DeviceProtection', 'TechSupport', 'TV_Streaming',\n",
      "       'Movie_Streaming', 'Contract', 'PaperlessBilling', 'Method_Payment',\n",
      "       'Charges_Month', 'TotalCharges', 'Churn'],\n",
      "      dtype='object')\n"
     ]
    }
   ],
   "source": [
    "\n",
    "# Display the column names to verify\n",
    "print(data.columns)\n"
   ]
  },
  {
   "cell_type": "code",
   "execution_count": 6,
   "id": "1c6efe2f",
   "metadata": {},
   "outputs": [
    {
     "data": {
      "text/plain": [
       "cID                  object\n",
       "gender               object\n",
       "SeniorCitizen         int64\n",
       "Partner              object\n",
       "Dependents           object\n",
       "tenure                int64\n",
       "PhoneService         object\n",
       "MultipleLines        object\n",
       "InternetService      object\n",
       "OnlineSecurity       object\n",
       "OnlineBackup         object\n",
       "DeviceProtection     object\n",
       "TechSupport          object\n",
       "TV_Streaming         object\n",
       "Movie_Streaming      object\n",
       "Contract             object\n",
       "PaperlessBilling     object\n",
       "Method_Payment       object\n",
       "Charges_Month       float64\n",
       "TotalCharges         object\n",
       "Churn                object\n",
       "dtype: object"
      ]
     },
     "execution_count": 6,
     "metadata": {},
     "output_type": "execute_result"
    }
   ],
   "source": [
    "\n",
    "#CHecking the datatypes of all the columns\n",
    "data.dtypes\n"
   ]
  },
  {
   "cell_type": "code",
   "execution_count": 8,
   "id": "0db6f37c",
   "metadata": {},
   "outputs": [],
   "source": [
    "\n",
    "# Handling the missing values\n",
    "data = data.dropna()\n"
   ]
  },
  {
   "cell_type": "code",
   "execution_count": 9,
   "id": "6cf197f3",
   "metadata": {},
   "outputs": [],
   "source": [
    "\n",
    "# Converting the target column 'Churn' to numerical with the help of label encoder\n",
    "label_encoder = LabelEncoder()\n",
    "data['Churn'] = label_encoder.fit_transform(data['Churn'])\n"
   ]
  },
  {
   "cell_type": "code",
   "execution_count": 10,
   "id": "1a096c9d",
   "metadata": {},
   "outputs": [
    {
     "name": "stdout",
     "output_type": "stream",
     "text": [
      "          cID  gender  SeniorCitizen Partner Dependents  tenure PhoneService  \\\n",
      "0  4223-BKEOR  Female              0      No        Yes      21          Yes   \n",
      "1  6035-RIIOM  Female              0      No         No      54          Yes   \n",
      "2  3797-VTIDR    Male              0     Yes         No       1           No   \n",
      "3  2568-BRGYX    Male              0      No         No       4          Yes   \n",
      "4  2775-SEFEE    Male              0      No        Yes       0          Yes   \n",
      "\n",
      "      MultipleLines InternetService OnlineSecurity  ... DeviceProtection  \\\n",
      "0                No             DSL            Yes  ...              Yes   \n",
      "1               Yes     Fiber optic             No  ...               No   \n",
      "2  No phone service             DSL             No  ...               No   \n",
      "3                No     Fiber optic             No  ...               No   \n",
      "4               Yes             DSL            Yes  ...               No   \n",
      "\n",
      "  TechSupport TV_Streaming Movie_Streaming        Contract PaperlessBilling  \\\n",
      "0          No           No             Yes        One year               No   \n",
      "1          No          Yes             Yes        Two year              Yes   \n",
      "2          No           No              No  Month-to-month              Yes   \n",
      "3          No           No              No  Month-to-month              Yes   \n",
      "4         Yes           No              No        Two year              Yes   \n",
      "\n",
      "              Method_Payment Charges_Month  TotalCharges Churn  \n",
      "0               Mailed check         64.85        1336.8     0  \n",
      "1  Bank transfer (automatic)         97.20       5129.45     0  \n",
      "2           Electronic check         23.45         23.45     1  \n",
      "3           Electronic check         70.20        237.95     1  \n",
      "4  Bank transfer (automatic)         61.90                   0  \n",
      "\n",
      "[5 rows x 21 columns]\n"
     ]
    }
   ],
   "source": [
    "\n",
    "# Displaying the first 5 rows \n",
    "print(data.head())\n"
   ]
  },
  {
   "cell_type": "code",
   "execution_count": 11,
   "id": "006b87d7",
   "metadata": {},
   "outputs": [],
   "source": [
    "\n",
    "# Converting the categorical features to numerical, \n",
    "obj_cols = data.select_dtypes(include=['object']).columns\n",
    "data = pd.get_dummies(data, columns=obj_cols, drop_first=True)\n"
   ]
  },
  {
   "cell_type": "code",
   "execution_count": 12,
   "id": "3c0316bb",
   "metadata": {},
   "outputs": [],
   "source": [
    "\n",
    "# Normalizing numerical features with the help of standard scaler\n",
    "num_cols = data.select_dtypes(include=['int64', 'float64']).columns\n",
    "scaler = StandardScaler()\n",
    "data[num_cols] = scaler.fit_transform(data[num_cols])\n"
   ]
  },
  {
   "cell_type": "code",
   "execution_count": 13,
   "id": "2c00901c",
   "metadata": {},
   "outputs": [],
   "source": [
    "\n",
    "# Split the data into train and test sets\n",
    "X = data.drop('Churn', axis=1)  # Drop the target column 'Churn'\n",
    "y = data['Churn']\n",
    "X_train, X_test, y_train, y_test = train_test_split(X, y, test_size=0.2, random_state=42)\n"
   ]
  },
  {
   "cell_type": "code",
   "execution_count": 14,
   "id": "7bd288ce",
   "metadata": {},
   "outputs": [],
   "source": [
    "\n",
    "# Handle imbalanced data using SMOTE\n",
    "smote = SMOTE(random_state=42)\n",
    "X_train, y_train = smote.fit_resample(X_train, y_train)\n"
   ]
  },
  {
   "cell_type": "code",
   "execution_count": 15,
   "id": "c32cad1b",
   "metadata": {},
   "outputs": [
    {
     "data": {
      "text/html": [
       "<style>#sk-container-id-1 {color: black;background-color: white;}#sk-container-id-1 pre{padding: 0;}#sk-container-id-1 div.sk-toggleable {background-color: white;}#sk-container-id-1 label.sk-toggleable__label {cursor: pointer;display: block;width: 100%;margin-bottom: 0;padding: 0.3em;box-sizing: border-box;text-align: center;}#sk-container-id-1 label.sk-toggleable__label-arrow:before {content: \"▸\";float: left;margin-right: 0.25em;color: #696969;}#sk-container-id-1 label.sk-toggleable__label-arrow:hover:before {color: black;}#sk-container-id-1 div.sk-estimator:hover label.sk-toggleable__label-arrow:before {color: black;}#sk-container-id-1 div.sk-toggleable__content {max-height: 0;max-width: 0;overflow: hidden;text-align: left;background-color: #f0f8ff;}#sk-container-id-1 div.sk-toggleable__content pre {margin: 0.2em;color: black;border-radius: 0.25em;background-color: #f0f8ff;}#sk-container-id-1 input.sk-toggleable__control:checked~div.sk-toggleable__content {max-height: 200px;max-width: 100%;overflow: auto;}#sk-container-id-1 input.sk-toggleable__control:checked~label.sk-toggleable__label-arrow:before {content: \"▾\";}#sk-container-id-1 div.sk-estimator input.sk-toggleable__control:checked~label.sk-toggleable__label {background-color: #d4ebff;}#sk-container-id-1 div.sk-label input.sk-toggleable__control:checked~label.sk-toggleable__label {background-color: #d4ebff;}#sk-container-id-1 input.sk-hidden--visually {border: 0;clip: rect(1px 1px 1px 1px);clip: rect(1px, 1px, 1px, 1px);height: 1px;margin: -1px;overflow: hidden;padding: 0;position: absolute;width: 1px;}#sk-container-id-1 div.sk-estimator {font-family: monospace;background-color: #f0f8ff;border: 1px dotted black;border-radius: 0.25em;box-sizing: border-box;margin-bottom: 0.5em;}#sk-container-id-1 div.sk-estimator:hover {background-color: #d4ebff;}#sk-container-id-1 div.sk-parallel-item::after {content: \"\";width: 100%;border-bottom: 1px solid gray;flex-grow: 1;}#sk-container-id-1 div.sk-label:hover label.sk-toggleable__label {background-color: #d4ebff;}#sk-container-id-1 div.sk-serial::before {content: \"\";position: absolute;border-left: 1px solid gray;box-sizing: border-box;top: 0;bottom: 0;left: 50%;z-index: 0;}#sk-container-id-1 div.sk-serial {display: flex;flex-direction: column;align-items: center;background-color: white;padding-right: 0.2em;padding-left: 0.2em;position: relative;}#sk-container-id-1 div.sk-item {position: relative;z-index: 1;}#sk-container-id-1 div.sk-parallel {display: flex;align-items: stretch;justify-content: center;background-color: white;position: relative;}#sk-container-id-1 div.sk-item::before, #sk-container-id-1 div.sk-parallel-item::before {content: \"\";position: absolute;border-left: 1px solid gray;box-sizing: border-box;top: 0;bottom: 0;left: 50%;z-index: -1;}#sk-container-id-1 div.sk-parallel-item {display: flex;flex-direction: column;z-index: 1;position: relative;background-color: white;}#sk-container-id-1 div.sk-parallel-item:first-child::after {align-self: flex-end;width: 50%;}#sk-container-id-1 div.sk-parallel-item:last-child::after {align-self: flex-start;width: 50%;}#sk-container-id-1 div.sk-parallel-item:only-child::after {width: 0;}#sk-container-id-1 div.sk-dashed-wrapped {border: 1px dashed gray;margin: 0 0.4em 0.5em 0.4em;box-sizing: border-box;padding-bottom: 0.4em;background-color: white;}#sk-container-id-1 div.sk-label label {font-family: monospace;font-weight: bold;display: inline-block;line-height: 1.2em;}#sk-container-id-1 div.sk-label-container {text-align: center;}#sk-container-id-1 div.sk-container {/* jupyter's `normalize.less` sets `[hidden] { display: none; }` but bootstrap.min.css set `[hidden] { display: none !important; }` so we also need the `!important` here to be able to override the default hidden behavior on the sphinx rendered scikit-learn.org. See: https://github.com/scikit-learn/scikit-learn/issues/21755 */display: inline-block !important;position: relative;}#sk-container-id-1 div.sk-text-repr-fallback {display: none;}</style><div id=\"sk-container-id-1\" class=\"sk-top-container\"><div class=\"sk-text-repr-fallback\"><pre>RandomForestClassifier(random_state=42)</pre><b>In a Jupyter environment, please rerun this cell to show the HTML representation or trust the notebook. <br />On GitHub, the HTML representation is unable to render, please try loading this page with nbviewer.org.</b></div><div class=\"sk-container\" hidden><div class=\"sk-item\"><div class=\"sk-estimator sk-toggleable\"><input class=\"sk-toggleable__control sk-hidden--visually\" id=\"sk-estimator-id-1\" type=\"checkbox\" checked><label for=\"sk-estimator-id-1\" class=\"sk-toggleable__label sk-toggleable__label-arrow\">RandomForestClassifier</label><div class=\"sk-toggleable__content\"><pre>RandomForestClassifier(random_state=42)</pre></div></div></div></div></div>"
      ],
      "text/plain": [
       "RandomForestClassifier(random_state=42)"
      ]
     },
     "execution_count": 15,
     "metadata": {},
     "output_type": "execute_result"
    }
   ],
   "source": [
    "\n",
    "# Training a Random Forest model\n",
    "model = RandomForestClassifier(random_state=42)\n",
    "model.fit(X_train, y_train)\n"
   ]
  },
  {
   "cell_type": "code",
   "execution_count": 16,
   "id": "35225a58",
   "metadata": {},
   "outputs": [],
   "source": [
    "\n",
    "# Predicting on the test set\n",
    "y_pred = model.predict(X_test)\n"
   ]
  },
  {
   "cell_type": "code",
   "execution_count": 17,
   "id": "fa5b6147",
   "metadata": {},
   "outputs": [
    {
     "data": {
      "text/plain": [
       "array([0, 1, 1, ..., 0, 0, 1])"
      ]
     },
     "execution_count": 17,
     "metadata": {},
     "output_type": "execute_result"
    }
   ],
   "source": [
    "\n",
    "# Printing out the predicted valuse\n",
    "y_pred\n"
   ]
  },
  {
   "cell_type": "code",
   "execution_count": 18,
   "id": "1befac00",
   "metadata": {},
   "outputs": [],
   "source": [
    "\n",
    "# Evaluating the model using accuracy and f1 score\n",
    "accuracy = accuracy_score(y_test, y_pred)\n",
    "f1 = f1_score(y_test, y_pred)"
   ]
  },
  {
   "cell_type": "code",
   "execution_count": 19,
   "id": "cc1d51dd",
   "metadata": {},
   "outputs": [
    {
     "name": "stdout",
     "output_type": "stream",
     "text": [
      "Accuracy: 0.7089618456078084\n",
      "F1-score: 0.6029055690072639\n"
     ]
    }
   ],
   "source": [
    "\n",
    "#Final results of our model\n",
    "print(f'Accuracy: {accuracy}')\n",
    "print(f'F1-score: {f1}')\n"
   ]
  }
 ],
 "metadata": {
  "kernelspec": {
   "display_name": "Python 3 (ipykernel)",
   "language": "python",
   "name": "python3"
  },
  "language_info": {
   "codemirror_mode": {
    "name": "ipython",
    "version": 3
   },
   "file_extension": ".py",
   "mimetype": "text/x-python",
   "name": "python",
   "nbconvert_exporter": "python",
   "pygments_lexer": "ipython3",
   "version": "3.11.3"
  }
 },
 "nbformat": 4,
 "nbformat_minor": 5
}
