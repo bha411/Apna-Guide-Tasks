{
 "cells": [
  {
   "cell_type": "code",
   "execution_count": 17,
   "id": "c2461dcf",
   "metadata": {},
   "outputs": [],
   "source": [
    "# BHAVYA GUPTA ML TASK 3, DISASTER MGMT\n",
    "import pandas as pd\n",
    "\n",
    "train_data_path = 'train.csv'\n",
    "test_data_path = 'test .csv'\n",
    "\n",
    "train_df = pd.read_csv(train_data_path)\n",
    "test_df = pd.read_csv(test_data_path)\n"
   ]
  },
  {
   "cell_type": "code",
   "execution_count": 18,
   "id": "df016904",
   "metadata": {},
   "outputs": [
    {
     "name": "stdout",
     "output_type": "stream",
     "text": [
      "   id keyword place                                              tweet  \\\n",
      "0   1     NaN   NaN  Our Deeds are the Reason of this #earthquake M...   \n",
      "1   4     NaN   NaN             Forest fire near La Ronge Sask. Canada   \n",
      "2   5     NaN   NaN  All residents asked to 'shelter in place' are ...   \n",
      "3   6     NaN   NaN  13,000 people receive #wildfires evacuation or...   \n",
      "4   7     NaN   NaN  Just got sent this photo from Ruby #Alaska as ...   \n",
      "\n",
      "   disaster  \n",
      "0         1  \n",
      "1         1  \n",
      "2         1  \n",
      "3         1  \n",
      "4         1  \n",
      "<class 'pandas.core.frame.DataFrame'>\n",
      "RangeIndex: 7613 entries, 0 to 7612\n",
      "Data columns (total 5 columns):\n",
      " #   Column    Non-Null Count  Dtype \n",
      "---  ------    --------------  ----- \n",
      " 0   id        7613 non-null   int64 \n",
      " 1   keyword   7552 non-null   object\n",
      " 2   place     5080 non-null   object\n",
      " 3   tweet     7613 non-null   object\n",
      " 4   disaster  7613 non-null   int64 \n",
      "dtypes: int64(2), object(3)\n",
      "memory usage: 297.5+ KB\n",
      "None\n",
      "id             0\n",
      "keyword       61\n",
      "place       2533\n",
      "tweet          0\n",
      "disaster       0\n",
      "dtype: int64\n"
     ]
    }
   ],
   "source": [
    "print(train_df.head())\n",
    "print(train_df.info())\n",
    "print(train_df.isnull().sum())"
   ]
  },
  {
   "cell_type": "code",
   "execution_count": 19,
   "id": "fb43f1fd",
   "metadata": {},
   "outputs": [
    {
     "name": "stdout",
     "output_type": "stream",
     "text": [
      "   id keyword place                                              tweet\n",
      "0   0     NaN   NaN                 Just happened a terrible car crash\n",
      "1   2     NaN   NaN  Heard about #earthquake is different cities, s...\n",
      "2   3     NaN   NaN  there is a forest fire at spot pond, geese are...\n",
      "3   9     NaN   NaN           Apocalypse lighting. #Spokane #wildfires\n",
      "4  11     NaN   NaN      Typhoon Soudelor kills 28 in China and Taiwan\n",
      "<class 'pandas.core.frame.DataFrame'>\n",
      "RangeIndex: 3263 entries, 0 to 3262\n",
      "Data columns (total 4 columns):\n",
      " #   Column   Non-Null Count  Dtype \n",
      "---  ------   --------------  ----- \n",
      " 0   id       3263 non-null   int64 \n",
      " 1   keyword  3237 non-null   object\n",
      " 2   place    2158 non-null   object\n",
      " 3   tweet    3263 non-null   object\n",
      "dtypes: int64(1), object(3)\n",
      "memory usage: 102.1+ KB\n",
      "None\n",
      "id            0\n",
      "keyword      26\n",
      "place      1105\n",
      "tweet         0\n",
      "dtype: int64\n"
     ]
    }
   ],
   "source": [
    "print(test_df.head())\n",
    "print(test_df.info())\n",
    "print(test_df.isnull().sum())"
   ]
  },
  {
   "cell_type": "code",
   "execution_count": 20,
   "id": "d5742bc7",
   "metadata": {},
   "outputs": [],
   "source": [
    " import numpy as np\n",
    "\n",
    "train_df['keyword'].fillna('unknown', inplace=True)\n",
    "train_df['place'].fillna('unknown', inplace=True)\n",
    "\n",
    "test_df['keyword'].fillna('unknown', inplace=True)\n",
    "test_df['place'].fillna('unknown', inplace=True)\n",
    "\n"
   ]
  },
  {
   "cell_type": "code",
   "execution_count": 21,
   "id": "862fbdf6",
   "metadata": {},
   "outputs": [
    {
     "data": {
      "text/plain": [
       "(id          0\n",
       " keyword     0\n",
       " place       0\n",
       " tweet       0\n",
       " disaster    0\n",
       " dtype: int64,\n",
       " id         0\n",
       " keyword    0\n",
       " place      0\n",
       " tweet      0\n",
       " dtype: int64)"
      ]
     },
     "execution_count": 21,
     "metadata": {},
     "output_type": "execute_result"
    }
   ],
   "source": [
    "train_df.isnull().sum(), test_df.isnull().sum()"
   ]
  },
  {
   "cell_type": "code",
   "execution_count": 25,
   "id": "5af4a7f1",
   "metadata": {},
   "outputs": [
    {
     "name": "stderr",
     "output_type": "stream",
     "text": [
      "[nltk_data] Downloading package punkt to\n",
      "[nltk_data]     C:\\Users\\festi\\AppData\\Roaming\\nltk_data...\n",
      "[nltk_data]   Package punkt is already up-to-date!\n",
      "[nltk_data] Downloading package stopwords to\n",
      "[nltk_data]     C:\\Users\\festi\\AppData\\Roaming\\nltk_data...\n",
      "[nltk_data]   Package stopwords is already up-to-date!\n",
      "[nltk_data] Downloading package wordnet to\n",
      "[nltk_data]     C:\\Users\\festi\\AppData\\Roaming\\nltk_data...\n",
      "[nltk_data]   Package wordnet is already up-to-date!\n"
     ]
    },
    {
     "name": "stdout",
     "output_type": "stream",
     "text": [
      "Accuracy on validation set: 0.8036769533814839\n",
      "Classification report:\n",
      "               precision    recall  f1-score   support\n",
      "\n",
      "           0       0.79      0.89      0.84       874\n",
      "           1       0.82      0.69      0.75       649\n",
      "\n",
      "    accuracy                           0.80      1523\n",
      "   macro avg       0.81      0.79      0.79      1523\n",
      "weighted avg       0.81      0.80      0.80      1523\n",
      "\n",
      "Predictions have been saved to submission.csv\n"
     ]
    }
   ],
   "source": [
    "import pandas as pd\n",
    "import string\n",
    "import nltk\n",
    "from nltk.corpus import stopwords\n",
    "from nltk.tokenize import word_tokenize\n",
    "from nltk.stem import WordNetLemmatizer\n",
    "from sklearn.feature_extraction.text import TfidfVectorizer\n",
    "from sklearn.linear_model import LogisticRegression\n",
    "from sklearn.model_selection import train_test_split\n",
    "from sklearn.metrics import accuracy_score, classification_report\n",
    "\n",
    "nltk.download('punkt')\n",
    "nltk.download('stopwords')\n",
    "nltk.download('wordnet')\n",
    "\n",
    "lemmatizer = WordNetLemmatizer()\n",
    "stop_words = set(stopwords.words('english'))\n",
    "\n",
    "def preprocess_text(text):\n",
    "    text = text.translate(str.maketrans('', '', string.punctuation)).lower()\n",
    "    words = word_tokenize(text)\n",
    "    words = [lemmatizer.lemmatize(word) for word in words if word not in stop_words]\n",
    "    return ' '.join(words)\n",
    "\n",
    "train_df['processed_tweet'] = train_df['tweet'].apply(preprocess_text)\n"
   ]
  },
  {
   "cell_type": "code",
   "execution_count": 27,
   "id": "bd2947a7",
   "metadata": {},
   "outputs": [
    {
     "name": "stdout",
     "output_type": "stream",
     "text": [
      "Accuracy on validation set: 0.8036769533814839\n",
      "Classification report:\n",
      "               precision    recall  f1-score   support\n",
      "\n",
      "           0       0.79      0.89      0.84       874\n",
      "           1       0.82      0.69      0.75       649\n",
      "\n",
      "    accuracy                           0.80      1523\n",
      "   macro avg       0.81      0.79      0.79      1523\n",
      "weighted avg       0.81      0.80      0.80      1523\n",
      "\n"
     ]
    }
   ],
   "source": [
    "X_train, X_val, y_train, y_val = train_test_split(train_df['processed_tweet'], train_df['disaster'], test_size=0.2, random_state=42)\n",
    "\n",
    "tfidf_vectorizer = TfidfVectorizer(max_features=5000)\n",
    "X_train_tfidf = tfidf_vectorizer.fit_transform(X_train)\n",
    "X_val_tfidf = tfidf_vectorizer.transform(X_val)\n",
    "\n",
    "log_reg = LogisticRegression()\n",
    "log_reg.fit(X_train_tfidf, y_train)\n",
    "\n",
    "y_val_pred = log_reg.predict(X_val_tfidf)\n",
    "\n",
    "accuracy = accuracy_score(y_val, y_val_pred)\n",
    "print(\"Accuracy on validation set:\", accuracy)\n",
    "print(\"Classification report:\\n\", classification_report(y_val, y_val_pred))\n"
   ]
  },
  {
   "cell_type": "code",
   "execution_count": 28,
   "id": "6a7ce6a8",
   "metadata": {},
   "outputs": [
    {
     "name": "stdout",
     "output_type": "stream",
     "text": [
      "saved to submission.csv \n",
      "\n",
      " END\n"
     ]
    }
   ],
   "source": [
    "test_df['processed_tweet'] = test_df['tweet'].apply(preprocess_text)\n",
    "\n",
    "X_test_tfidf = tfidf_vectorizer.transform(test_df['processed_tweet'])\n",
    "\n",
    "test_predictions = log_reg.predict(X_test_tfidf)\n",
    "\n",
    "submission = pd.DataFrame({\n",
    "    'id': test_df['id'],\n",
    "    'disaster': test_predictions\n",
    "})\n",
    "submission.to_csv('submission3.csv', index=False)\n",
    "\n",
    "print(\"saved to submission.csv\",\"\\n\\n END\")\n"
   ]
  },
  {
   "cell_type": "code",
   "execution_count": null,
   "id": "7d6487dc",
   "metadata": {},
   "outputs": [],
   "source": []
  }
 ],
 "metadata": {
  "kernelspec": {
   "display_name": "Python 3 (ipykernel)",
   "language": "python",
   "name": "python3"
  },
  "language_info": {
   "codemirror_mode": {
    "name": "ipython",
    "version": 3
   },
   "file_extension": ".py",
   "mimetype": "text/x-python",
   "name": "python",
   "nbconvert_exporter": "python",
   "pygments_lexer": "ipython3",
   "version": "3.11.3"
  }
 },
 "nbformat": 4,
 "nbformat_minor": 5
}
